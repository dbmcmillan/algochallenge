{
 "cells": [
  {
   "cell_type": "code",
   "execution_count": 262,
   "id": "c0fa016f-cdbb-444d-85cc-6a3657481969",
   "metadata": {},
   "outputs": [
    {
     "name": "stdout",
     "output_type": "stream",
     "text": [
      "[[(84, 84), (78, 84)], [(84, 84), (84, 82)], [(78, 84), (74, 82)], [(74, 82), (70, 86)], [(66, 82), (70, 86)], [(70, 86), (66, 88)], [(60, 80), (66, 82)], [(60, 80), (66, 88)], [(84, 82), (74, 82)]]\n",
      "[[(68, 60), (64, 64)], [(64, 64), (60, 60)], [(68, 60), (76, 64)]]\n",
      "[[(20, 85), (15, 88)], [(15, 88), (15, 95)], [(5, 85), (15, 88)], [(15, 95), (25, 90)], [(15, 88), (5, 80)], [(5, 85), (5, 80)], [(20, 85), (25, 90)], [(15, 88), (25, 90)], [(5, 85), (15, 95)], [(5, 80), (20, 85)]]\n",
      "[[(0, 0), (2, 8)], [(0, 0), (10, 4)], [(6, 10), (10, 4)], [(6, 10), (2, 8)]]\n",
      "This shape is a polygon\n",
      "[[(30, 60), (30, 66)], [(30, 66), (26, 70)], [(20, 60), (30, 66)], [(30, 60), (20, 60)]]\n",
      "[[(13, 40), (18, 38)], [(18, 38), (8, 38)], [(8, 38), (13, 40)]]\n",
      "This shape is a polygon\n",
      "[[(31, 7), (25, 10)], [(25, 10), (40, 14)], [(40, 14), (30, 19)], [(31, 7), (30, 19)]]\n",
      "This shape is a polygon\n",
      "[[(48, 20), (56, 26)]]\n",
      "[[(59, 23), (50, 27)]]\n",
      "[[(13, 36), (14, 30)], [(10, 30), (14, 30)], [(10, 30), (12, 43)], [(12, 43), (13, 36)]]\n",
      "This shape is a polygon\n",
      "The number of geometric shapes is 10\n",
      "The number of polygons is 4\n"
     ]
    }
   ],
   "source": [
    "lines = [[(84, 84), (78, 84)], [(68, 60), (64, 64)], [(20, 85), (15, 88)], [(0, 0), (2, 8)], [(30, 60), (30, 66)], [(13, 40), (18, 38)],[(15, 88), (15, 95)],[(18, 38), (8, 38)],[(31, 7), (25, 10)], [(30, 66), (26, 70)],[(40, 14), (30, 19)],[(5, 85), (15, 88)],[(48, 20), (56, 26)],[(84, 84), (84, 82)],[(66, 82), (70, 86)],[(15, 95), (25, 90)],[(70, 86), (66, 88)],[(59, 23), (50, 27)],[(15, 88), (5, 80)],[(78, 84), (74, 82)],[(60, 80), (66, 82)],[(5, 85), (5, 80)],[(25, 10), (40, 14)],[(20, 85), (25, 90)],[(20, 60), (30, 66)],[(13, 36), (14, 30)],[(30, 60), (20, 60)],[(64, 64), (60, 60)],[(31, 7), (30, 19)],[(15, 88), (25, 90)],[(68, 60), (76, 64)],[(8, 38), (13, 40)],[(5, 85), (15, 95)],[(0, 0), (10, 4)],[(10, 30), (14, 30)],[(74, 82), (70, 86)],[(10, 30), (12, 43)],[(6, 10), (10, 4)],[(5, 80), (20, 85)],[(6, 10), (2, 8)],[(60, 80), (66, 88)],[(84, 82), (74, 82)],[(12, 43), (13, 36)]]\n",
    "geo = []\n",
    "numpoly = 0\n",
    "count = 0\n",
    "while len(lines)>0:\n",
    "    geo.append(lines[0])\n",
    "    lines.pop(0)\n",
    "    i = 0\n",
    "    while i < len(lines):\n",
    "        a, b = lines[i]\n",
    "        c,d = lines[0]\n",
    "        if any(a in segment or b in segment for segment in geo):\n",
    "            geo.append([a, b])\n",
    "            lines.pop(i) \n",
    "            i=0 \n",
    "        #elif any(c in segment or d in segment for segment in geo):\n",
    "            #geo.append([c,d])\n",
    "            #lines.pop(0)\n",
    "            #i=0\n",
    "        else:\n",
    "            i += 1\n",
    "    print(geo)\n",
    "    #To count the number of polygons, we have to determine if each endpoint occurs exactly twice in the geo string\n",
    "    new_geo = []\n",
    "    for a,b in geo:\n",
    "        new_geo.append(a)\n",
    "        new_geo.append(b)\n",
    "    from collections import Counter\n",
    "    counter = Counter(new_geo)\n",
    "    counts = counter.values()\n",
    "    allequal2 = all(z==2 for z in counts)\n",
    "    if allequal2==True:\n",
    "        print(\"This shape is a polygon\")\n",
    "        numpoly = numpoly+1\n",
    "    geo.clear()\n",
    "    count = count + 1\n",
    "print(f\"The number of geometric shapes is {count}\")\n",
    "print(f\"The number of polygons is {numpoly}\")"
   ]
  },
  {
   "cell_type": "code",
   "execution_count": null,
   "id": "f4451544-3dfd-4339-9e79-8d9a735f1f5b",
   "metadata": {},
   "outputs": [],
   "source": []
  },
  {
   "cell_type": "code",
   "execution_count": null,
   "id": "fafce99a-fa3e-4a54-8613-281bc928fadd",
   "metadata": {},
   "outputs": [],
   "source": []
  }
 ],
 "metadata": {
  "kernelspec": {
   "display_name": "Python 3 (ipykernel)",
   "language": "python",
   "name": "python3"
  },
  "language_info": {
   "codemirror_mode": {
    "name": "ipython",
    "version": 3
   },
   "file_extension": ".py",
   "mimetype": "text/x-python",
   "name": "python",
   "nbconvert_exporter": "python",
   "pygments_lexer": "ipython3",
   "version": "3.12.5"
  }
 },
 "nbformat": 4,
 "nbformat_minor": 5
}
